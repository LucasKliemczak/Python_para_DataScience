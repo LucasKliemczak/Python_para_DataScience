{
 "cells": [
  {
   "cell_type": "code",
   "execution_count": 1,
   "id": "0807dd15",
   "metadata": {},
   "outputs": [],
   "source": [
    "import pandas as pd"
   ]
  },
  {
   "cell_type": "code",
   "execution_count": 2,
   "id": "58ed1052",
   "metadata": {},
   "outputs": [
    {
     "data": {
      "text/html": [
       "<div>\n",
       "<style scoped>\n",
       "    .dataframe tbody tr th:only-of-type {\n",
       "        vertical-align: middle;\n",
       "    }\n",
       "\n",
       "    .dataframe tbody tr th {\n",
       "        vertical-align: top;\n",
       "    }\n",
       "\n",
       "    .dataframe thead tr th {\n",
       "        text-align: left;\n",
       "    }\n",
       "</style>\n",
       "<table border=\"1\" class=\"dataframe\">\n",
       "  <thead>\n",
       "    <tr>\n",
       "      <th></th>\n",
       "      <th>PressÃ£o (Relativa)</th>\n",
       "      <th>Temperatura</th>\n",
       "      <th colspan=\"2\" halign=\"left\">Volume EspecÃ­fico</th>\n",
       "      <th colspan=\"3\" halign=\"left\">Entalpia EspecÃ­fica</th>\n",
       "    </tr>\n",
       "    <tr>\n",
       "      <th></th>\n",
       "      <th>kPaG</th>\n",
       "      <th>ÂºC</th>\n",
       "      <th colspan=\"2\" halign=\"left\">m3/kg</th>\n",
       "      <th colspan=\"3\" halign=\"left\">kJ/kg</th>\n",
       "    </tr>\n",
       "    <tr>\n",
       "      <th></th>\n",
       "      <th>P</th>\n",
       "      <th>T</th>\n",
       "      <th>Vf</th>\n",
       "      <th>Vg</th>\n",
       "      <th>Hf</th>\n",
       "      <th>Hfg</th>\n",
       "      <th>Hg</th>\n",
       "    </tr>\n",
       "  </thead>\n",
       "  <tbody>\n",
       "    <tr>\n",
       "      <th>0</th>\n",
       "      <td>0</td>\n",
       "      <td>99.97</td>\n",
       "      <td>0.001043</td>\n",
       "      <td>1.6730</td>\n",
       "      <td>419.0</td>\n",
       "      <td>2257</td>\n",
       "      <td>2676</td>\n",
       "    </tr>\n",
       "    <tr>\n",
       "      <th>1</th>\n",
       "      <td>20</td>\n",
       "      <td>105.10</td>\n",
       "      <td>0.001048</td>\n",
       "      <td>1.4140</td>\n",
       "      <td>440.6</td>\n",
       "      <td>2243</td>\n",
       "      <td>2684</td>\n",
       "    </tr>\n",
       "    <tr>\n",
       "      <th>2</th>\n",
       "      <td>50</td>\n",
       "      <td>111.61</td>\n",
       "      <td>0.001053</td>\n",
       "      <td>1.1500</td>\n",
       "      <td>468.2</td>\n",
       "      <td>2225</td>\n",
       "      <td>2694</td>\n",
       "    </tr>\n",
       "    <tr>\n",
       "      <th>3</th>\n",
       "      <td>100</td>\n",
       "      <td>120.42</td>\n",
       "      <td>0.001061</td>\n",
       "      <td>0.8803</td>\n",
       "      <td>505.6</td>\n",
       "      <td>2201</td>\n",
       "      <td>2707</td>\n",
       "    </tr>\n",
       "  </tbody>\n",
       "</table>\n",
       "</div>"
      ],
      "text/plain": [
       "  PressÃ£o (Relativa) Temperatura Volume EspecÃ­fico          \\\n",
       "                 kPaG         ÂºC              m3/kg           \n",
       "                    P           T                 Vf      Vg   \n",
       "0                   0       99.97           0.001043  1.6730   \n",
       "1                  20      105.10           0.001048  1.4140   \n",
       "2                  50      111.61           0.001053  1.1500   \n",
       "3                 100      120.42           0.001061  0.8803   \n",
       "\n",
       "  Entalpia EspecÃ­fica              \n",
       "                 kJ/kg              \n",
       "                    Hf   Hfg    Hg  \n",
       "0                419.0  2257  2676  \n",
       "1                440.6  2243  2684  \n",
       "2                468.2  2225  2694  \n",
       "3                505.6  2201  2707  "
      ]
     },
     "execution_count": 2,
     "metadata": {},
     "output_type": "execute_result"
    }
   ],
   "source": [
    "df_termod = pd.read_html('https://www.tlv.com/global/BR/steam-theory/how-to-read-a-steam-table.html')\n",
    "df_termod[0]"
   ]
  },
  {
   "cell_type": "code",
   "execution_count": 3,
   "id": "fc020550",
   "metadata": {},
   "outputs": [
    {
     "data": {
      "text/plain": [
       "5"
      ]
     },
     "execution_count": 3,
     "metadata": {},
     "output_type": "execute_result"
    }
   ],
   "source": [
    "len(df_termod)"
   ]
  },
  {
   "cell_type": "code",
   "execution_count": null,
   "id": "19367b28",
   "metadata": {},
   "outputs": [],
   "source": []
  },
  {
   "cell_type": "code",
   "execution_count": null,
   "id": "cf7c3b5f",
   "metadata": {},
   "outputs": [],
   "source": []
  }
 ],
 "metadata": {
  "kernelspec": {
   "display_name": "Python 3 (ipykernel)",
   "language": "python",
   "name": "python3"
  },
  "language_info": {
   "codemirror_mode": {
    "name": "ipython",
    "version": 3
   },
   "file_extension": ".py",
   "mimetype": "text/x-python",
   "name": "python",
   "nbconvert_exporter": "python",
   "pygments_lexer": "ipython3",
   "version": "3.10.9"
  }
 },
 "nbformat": 4,
 "nbformat_minor": 5
}
